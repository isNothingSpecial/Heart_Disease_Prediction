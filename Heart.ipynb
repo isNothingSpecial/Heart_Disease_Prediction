{
 "cells": [
  {
   "cell_type": "markdown",
   "metadata": {
    "id": "pRjsbSMp3zuk"
   },
   "source": [
    "# **PREDIKSI HEART DISEASE**"
   ]
  },
  {
   "cell_type": "markdown",
   "metadata": {
    "id": "MB7LcSvg4Z4L"
   },
   "source": [
    "Dalam project ini kita akan melakukan prediksi cuaca dengan dataset **seattle-weather**.\n",
    "\n",
    "Link **dataset**:\n",
    "https://drive.google.com/file/d/1IIyYZEQReb4VavO_piu3qQeGK6VcwGJm/view?usp=sharing"
   ]
  },
  {
   "cell_type": "markdown",
   "metadata": {
    "id": "IVOat-tA95ls"
   },
   "source": [
    "## **Data Preprocessing**"
   ]
  },
  {
   "cell_type": "markdown",
   "metadata": {
    "id": "8JnuYTZL5II-"
   },
   "source": [
    "1. Isi _code-cell_ dibawah dengan kode untuk:\n",
    "    - **membaca dataset** _seattle-weather_\n",
    "    - **menampilkan 15** baris data teratas\n",
    "\n"
   ]
  },
  {
   "cell_type": "code",
   "execution_count": 344,
   "metadata": {
    "id": "HNS4PAx5zhH0"
   },
   "outputs": [],
   "source": [
    "# tulis jawaban anda pada code-cell berikut\n",
    "\n",
    "import pandas as pd\n",
    "import matplotlib.pyplot as plt\n",
    "import seaborn as sns\n",
    "from sklearn.model_selection import train_test_split\n",
    "from sklearn.naive_bayes import GaussianNB,BernoulliNB, MultinomialNB, ComplementNB\n",
    "from sklearn.metrics import accuracy_score, precision_score, recall_score, f1_score\n",
    "from sklearn.neighbors import KNeighborsClassifier\n",
    "from sklearn import svm"
   ]
  },
  {
   "cell_type": "code",
   "execution_count": 345,
   "metadata": {
    "id": "3LBSJLTDJhEX"
   },
   "outputs": [
    {
     "data": {
      "text/html": [
       "<div>\n",
       "<style scoped>\n",
       "    .dataframe tbody tr th:only-of-type {\n",
       "        vertical-align: middle;\n",
       "    }\n",
       "\n",
       "    .dataframe tbody tr th {\n",
       "        vertical-align: top;\n",
       "    }\n",
       "\n",
       "    .dataframe thead th {\n",
       "        text-align: right;\n",
       "    }\n",
       "</style>\n",
       "<table border=\"1\" class=\"dataframe\">\n",
       "  <thead>\n",
       "    <tr style=\"text-align: right;\">\n",
       "      <th></th>\n",
       "      <th>age</th>\n",
       "      <th>sex</th>\n",
       "      <th>cp</th>\n",
       "      <th>trestbps</th>\n",
       "      <th>chol</th>\n",
       "      <th>fbs</th>\n",
       "      <th>restecg</th>\n",
       "      <th>thalach</th>\n",
       "      <th>exang</th>\n",
       "      <th>oldpeak</th>\n",
       "      <th>slope</th>\n",
       "      <th>ca</th>\n",
       "      <th>thal</th>\n",
       "      <th>num</th>\n",
       "    </tr>\n",
       "  </thead>\n",
       "  <tbody>\n",
       "    <tr>\n",
       "      <th>0</th>\n",
       "      <td>28</td>\n",
       "      <td>1</td>\n",
       "      <td>2</td>\n",
       "      <td>130</td>\n",
       "      <td>132</td>\n",
       "      <td>0</td>\n",
       "      <td>2</td>\n",
       "      <td>185</td>\n",
       "      <td>0</td>\n",
       "      <td>0.0</td>\n",
       "      <td>?</td>\n",
       "      <td>?</td>\n",
       "      <td>?</td>\n",
       "      <td>0</td>\n",
       "    </tr>\n",
       "    <tr>\n",
       "      <th>1</th>\n",
       "      <td>29</td>\n",
       "      <td>1</td>\n",
       "      <td>2</td>\n",
       "      <td>120</td>\n",
       "      <td>243</td>\n",
       "      <td>0</td>\n",
       "      <td>0</td>\n",
       "      <td>160</td>\n",
       "      <td>0</td>\n",
       "      <td>0.0</td>\n",
       "      <td>?</td>\n",
       "      <td>?</td>\n",
       "      <td>?</td>\n",
       "      <td>0</td>\n",
       "    </tr>\n",
       "    <tr>\n",
       "      <th>2</th>\n",
       "      <td>29</td>\n",
       "      <td>1</td>\n",
       "      <td>2</td>\n",
       "      <td>140</td>\n",
       "      <td>251</td>\n",
       "      <td>0</td>\n",
       "      <td>0</td>\n",
       "      <td>170</td>\n",
       "      <td>0</td>\n",
       "      <td>0.0</td>\n",
       "      <td>?</td>\n",
       "      <td>?</td>\n",
       "      <td>?</td>\n",
       "      <td>0</td>\n",
       "    </tr>\n",
       "    <tr>\n",
       "      <th>3</th>\n",
       "      <td>30</td>\n",
       "      <td>0</td>\n",
       "      <td>1</td>\n",
       "      <td>170</td>\n",
       "      <td>237</td>\n",
       "      <td>0</td>\n",
       "      <td>1</td>\n",
       "      <td>170</td>\n",
       "      <td>0</td>\n",
       "      <td>0.0</td>\n",
       "      <td>?</td>\n",
       "      <td>?</td>\n",
       "      <td>6</td>\n",
       "      <td>0</td>\n",
       "    </tr>\n",
       "    <tr>\n",
       "      <th>4</th>\n",
       "      <td>31</td>\n",
       "      <td>0</td>\n",
       "      <td>2</td>\n",
       "      <td>100</td>\n",
       "      <td>219</td>\n",
       "      <td>0</td>\n",
       "      <td>1</td>\n",
       "      <td>150</td>\n",
       "      <td>0</td>\n",
       "      <td>0.0</td>\n",
       "      <td>?</td>\n",
       "      <td>?</td>\n",
       "      <td>?</td>\n",
       "      <td>0</td>\n",
       "    </tr>\n",
       "    <tr>\n",
       "      <th>...</th>\n",
       "      <td>...</td>\n",
       "      <td>...</td>\n",
       "      <td>...</td>\n",
       "      <td>...</td>\n",
       "      <td>...</td>\n",
       "      <td>...</td>\n",
       "      <td>...</td>\n",
       "      <td>...</td>\n",
       "      <td>...</td>\n",
       "      <td>...</td>\n",
       "      <td>...</td>\n",
       "      <td>...</td>\n",
       "      <td>...</td>\n",
       "      <td>...</td>\n",
       "    </tr>\n",
       "    <tr>\n",
       "      <th>289</th>\n",
       "      <td>52</td>\n",
       "      <td>1</td>\n",
       "      <td>4</td>\n",
       "      <td>160</td>\n",
       "      <td>331</td>\n",
       "      <td>0</td>\n",
       "      <td>0</td>\n",
       "      <td>94</td>\n",
       "      <td>1</td>\n",
       "      <td>2.5</td>\n",
       "      <td>?</td>\n",
       "      <td>?</td>\n",
       "      <td>?</td>\n",
       "      <td>1</td>\n",
       "    </tr>\n",
       "    <tr>\n",
       "      <th>290</th>\n",
       "      <td>54</td>\n",
       "      <td>0</td>\n",
       "      <td>3</td>\n",
       "      <td>130</td>\n",
       "      <td>294</td>\n",
       "      <td>0</td>\n",
       "      <td>1</td>\n",
       "      <td>100</td>\n",
       "      <td>1</td>\n",
       "      <td>0.0</td>\n",
       "      <td>2</td>\n",
       "      <td>?</td>\n",
       "      <td>?</td>\n",
       "      <td>1</td>\n",
       "    </tr>\n",
       "    <tr>\n",
       "      <th>291</th>\n",
       "      <td>56</td>\n",
       "      <td>1</td>\n",
       "      <td>4</td>\n",
       "      <td>155</td>\n",
       "      <td>342</td>\n",
       "      <td>1</td>\n",
       "      <td>0</td>\n",
       "      <td>150</td>\n",
       "      <td>1</td>\n",
       "      <td>3.0</td>\n",
       "      <td>2</td>\n",
       "      <td>?</td>\n",
       "      <td>?</td>\n",
       "      <td>1</td>\n",
       "    </tr>\n",
       "    <tr>\n",
       "      <th>292</th>\n",
       "      <td>58</td>\n",
       "      <td>0</td>\n",
       "      <td>2</td>\n",
       "      <td>180</td>\n",
       "      <td>393</td>\n",
       "      <td>0</td>\n",
       "      <td>0</td>\n",
       "      <td>110</td>\n",
       "      <td>1</td>\n",
       "      <td>1.0</td>\n",
       "      <td>2</td>\n",
       "      <td>?</td>\n",
       "      <td>7</td>\n",
       "      <td>1</td>\n",
       "    </tr>\n",
       "    <tr>\n",
       "      <th>293</th>\n",
       "      <td>65</td>\n",
       "      <td>1</td>\n",
       "      <td>4</td>\n",
       "      <td>130</td>\n",
       "      <td>275</td>\n",
       "      <td>0</td>\n",
       "      <td>1</td>\n",
       "      <td>115</td>\n",
       "      <td>1</td>\n",
       "      <td>1.0</td>\n",
       "      <td>2</td>\n",
       "      <td>?</td>\n",
       "      <td>?</td>\n",
       "      <td>1</td>\n",
       "    </tr>\n",
       "  </tbody>\n",
       "</table>\n",
       "<p>294 rows × 14 columns</p>\n",
       "</div>"
      ],
      "text/plain": [
       "     age  sex  cp  trestbps  chol  fbs  restecg  thalach exang  oldpeak slope  \\\n",
       "0     28    1   2       130   132    0        2      185     0      0.0     ?   \n",
       "1     29    1   2       120   243    0        0      160     0      0.0     ?   \n",
       "2     29    1   2       140   251    0        0      170     0      0.0     ?   \n",
       "3     30    0   1       170   237    0        1      170     0      0.0     ?   \n",
       "4     31    0   2       100   219    0        1      150     0      0.0     ?   \n",
       "..   ...  ...  ..       ...   ...  ...      ...      ...   ...      ...   ...   \n",
       "289   52    1   4       160   331    0        0       94     1      2.5    ?    \n",
       "290   54    0   3       130   294    0        1      100     1      0.0     2   \n",
       "291   56    1   4       155   342    1        0      150     1      3.0     2   \n",
       "292   58    0   2       180   393    0        0      110     1      1.0     2   \n",
       "293   65    1   4       130   275    0        1      115     1      1.0     2   \n",
       "\n",
       "     ca thal  num  \n",
       "0     ?    ?    0  \n",
       "1     ?    ?    0  \n",
       "2     ?    ?    0  \n",
       "3     ?    6    0  \n",
       "4     ?    ?    0  \n",
       "..   ..  ...  ...  \n",
       "289  ?    ?     1  \n",
       "290   ?    ?    1  \n",
       "291   ?    ?    1  \n",
       "292   ?    7    1  \n",
       "293   ?    ?    1  \n",
       "\n",
       "[294 rows x 14 columns]"
      ]
     },
     "execution_count": 345,
     "metadata": {},
     "output_type": "execute_result"
    }
   ],
   "source": [
    "# tulis jawaban anda pada code-cell berikut\n",
    "\n",
    "df = pd.read_csv(\"hungarian.csv\")\n",
    "df"
   ]
  },
  {
   "cell_type": "code",
   "execution_count": 346,
   "metadata": {
    "id": "wVu7LoNrJjBP"
   },
   "outputs": [
    {
     "data": {
      "text/html": [
       "<div>\n",
       "<style scoped>\n",
       "    .dataframe tbody tr th:only-of-type {\n",
       "        vertical-align: middle;\n",
       "    }\n",
       "\n",
       "    .dataframe tbody tr th {\n",
       "        vertical-align: top;\n",
       "    }\n",
       "\n",
       "    .dataframe thead th {\n",
       "        text-align: right;\n",
       "    }\n",
       "</style>\n",
       "<table border=\"1\" class=\"dataframe\">\n",
       "  <thead>\n",
       "    <tr style=\"text-align: right;\">\n",
       "      <th></th>\n",
       "      <th>age</th>\n",
       "      <th>sex</th>\n",
       "      <th>cp</th>\n",
       "      <th>trestbps</th>\n",
       "      <th>chol</th>\n",
       "      <th>fbs</th>\n",
       "      <th>restecg</th>\n",
       "      <th>thalach</th>\n",
       "      <th>exang</th>\n",
       "      <th>oldpeak</th>\n",
       "      <th>slope</th>\n",
       "      <th>ca</th>\n",
       "      <th>thal</th>\n",
       "      <th>num</th>\n",
       "    </tr>\n",
       "  </thead>\n",
       "  <tbody>\n",
       "    <tr>\n",
       "      <th>0</th>\n",
       "      <td>28</td>\n",
       "      <td>1</td>\n",
       "      <td>2</td>\n",
       "      <td>130</td>\n",
       "      <td>132</td>\n",
       "      <td>0</td>\n",
       "      <td>2</td>\n",
       "      <td>185</td>\n",
       "      <td>0</td>\n",
       "      <td>0.0</td>\n",
       "      <td>?</td>\n",
       "      <td>?</td>\n",
       "      <td>?</td>\n",
       "      <td>0</td>\n",
       "    </tr>\n",
       "    <tr>\n",
       "      <th>1</th>\n",
       "      <td>29</td>\n",
       "      <td>1</td>\n",
       "      <td>2</td>\n",
       "      <td>120</td>\n",
       "      <td>243</td>\n",
       "      <td>0</td>\n",
       "      <td>0</td>\n",
       "      <td>160</td>\n",
       "      <td>0</td>\n",
       "      <td>0.0</td>\n",
       "      <td>?</td>\n",
       "      <td>?</td>\n",
       "      <td>?</td>\n",
       "      <td>0</td>\n",
       "    </tr>\n",
       "    <tr>\n",
       "      <th>2</th>\n",
       "      <td>29</td>\n",
       "      <td>1</td>\n",
       "      <td>2</td>\n",
       "      <td>140</td>\n",
       "      <td>251</td>\n",
       "      <td>0</td>\n",
       "      <td>0</td>\n",
       "      <td>170</td>\n",
       "      <td>0</td>\n",
       "      <td>0.0</td>\n",
       "      <td>?</td>\n",
       "      <td>?</td>\n",
       "      <td>?</td>\n",
       "      <td>0</td>\n",
       "    </tr>\n",
       "    <tr>\n",
       "      <th>3</th>\n",
       "      <td>30</td>\n",
       "      <td>0</td>\n",
       "      <td>1</td>\n",
       "      <td>170</td>\n",
       "      <td>237</td>\n",
       "      <td>0</td>\n",
       "      <td>1</td>\n",
       "      <td>170</td>\n",
       "      <td>0</td>\n",
       "      <td>0.0</td>\n",
       "      <td>?</td>\n",
       "      <td>?</td>\n",
       "      <td>6</td>\n",
       "      <td>0</td>\n",
       "    </tr>\n",
       "    <tr>\n",
       "      <th>4</th>\n",
       "      <td>31</td>\n",
       "      <td>0</td>\n",
       "      <td>2</td>\n",
       "      <td>100</td>\n",
       "      <td>219</td>\n",
       "      <td>0</td>\n",
       "      <td>1</td>\n",
       "      <td>150</td>\n",
       "      <td>0</td>\n",
       "      <td>0.0</td>\n",
       "      <td>?</td>\n",
       "      <td>?</td>\n",
       "      <td>?</td>\n",
       "      <td>0</td>\n",
       "    </tr>\n",
       "    <tr>\n",
       "      <th>5</th>\n",
       "      <td>32</td>\n",
       "      <td>0</td>\n",
       "      <td>2</td>\n",
       "      <td>105</td>\n",
       "      <td>198</td>\n",
       "      <td>0</td>\n",
       "      <td>0</td>\n",
       "      <td>165</td>\n",
       "      <td>0</td>\n",
       "      <td>0.0</td>\n",
       "      <td>?</td>\n",
       "      <td>?</td>\n",
       "      <td>?</td>\n",
       "      <td>0</td>\n",
       "    </tr>\n",
       "    <tr>\n",
       "      <th>6</th>\n",
       "      <td>32</td>\n",
       "      <td>1</td>\n",
       "      <td>2</td>\n",
       "      <td>110</td>\n",
       "      <td>225</td>\n",
       "      <td>0</td>\n",
       "      <td>0</td>\n",
       "      <td>184</td>\n",
       "      <td>0</td>\n",
       "      <td>0.0</td>\n",
       "      <td>?</td>\n",
       "      <td>?</td>\n",
       "      <td>?</td>\n",
       "      <td>0</td>\n",
       "    </tr>\n",
       "    <tr>\n",
       "      <th>7</th>\n",
       "      <td>32</td>\n",
       "      <td>1</td>\n",
       "      <td>2</td>\n",
       "      <td>125</td>\n",
       "      <td>254</td>\n",
       "      <td>0</td>\n",
       "      <td>0</td>\n",
       "      <td>155</td>\n",
       "      <td>0</td>\n",
       "      <td>0.0</td>\n",
       "      <td>?</td>\n",
       "      <td>?</td>\n",
       "      <td>?</td>\n",
       "      <td>0</td>\n",
       "    </tr>\n",
       "    <tr>\n",
       "      <th>8</th>\n",
       "      <td>33</td>\n",
       "      <td>1</td>\n",
       "      <td>3</td>\n",
       "      <td>120</td>\n",
       "      <td>298</td>\n",
       "      <td>0</td>\n",
       "      <td>0</td>\n",
       "      <td>185</td>\n",
       "      <td>0</td>\n",
       "      <td>0.0</td>\n",
       "      <td>?</td>\n",
       "      <td>?</td>\n",
       "      <td>?</td>\n",
       "      <td>0</td>\n",
       "    </tr>\n",
       "    <tr>\n",
       "      <th>9</th>\n",
       "      <td>34</td>\n",
       "      <td>0</td>\n",
       "      <td>2</td>\n",
       "      <td>130</td>\n",
       "      <td>161</td>\n",
       "      <td>0</td>\n",
       "      <td>0</td>\n",
       "      <td>190</td>\n",
       "      <td>0</td>\n",
       "      <td>0.0</td>\n",
       "      <td>?</td>\n",
       "      <td>?</td>\n",
       "      <td>?</td>\n",
       "      <td>0</td>\n",
       "    </tr>\n",
       "    <tr>\n",
       "      <th>10</th>\n",
       "      <td>34</td>\n",
       "      <td>1</td>\n",
       "      <td>2</td>\n",
       "      <td>150</td>\n",
       "      <td>214</td>\n",
       "      <td>0</td>\n",
       "      <td>1</td>\n",
       "      <td>168</td>\n",
       "      <td>0</td>\n",
       "      <td>0.0</td>\n",
       "      <td>?</td>\n",
       "      <td>?</td>\n",
       "      <td>?</td>\n",
       "      <td>0</td>\n",
       "    </tr>\n",
       "    <tr>\n",
       "      <th>11</th>\n",
       "      <td>34</td>\n",
       "      <td>1</td>\n",
       "      <td>2</td>\n",
       "      <td>98</td>\n",
       "      <td>220</td>\n",
       "      <td>0</td>\n",
       "      <td>0</td>\n",
       "      <td>150</td>\n",
       "      <td>0</td>\n",
       "      <td>0.0</td>\n",
       "      <td>?</td>\n",
       "      <td>?</td>\n",
       "      <td>?</td>\n",
       "      <td>0</td>\n",
       "    </tr>\n",
       "    <tr>\n",
       "      <th>12</th>\n",
       "      <td>35</td>\n",
       "      <td>0</td>\n",
       "      <td>1</td>\n",
       "      <td>120</td>\n",
       "      <td>160</td>\n",
       "      <td>0</td>\n",
       "      <td>1</td>\n",
       "      <td>185</td>\n",
       "      <td>0</td>\n",
       "      <td>0.0</td>\n",
       "      <td>?</td>\n",
       "      <td>?</td>\n",
       "      <td>?</td>\n",
       "      <td>0</td>\n",
       "    </tr>\n",
       "    <tr>\n",
       "      <th>13</th>\n",
       "      <td>35</td>\n",
       "      <td>0</td>\n",
       "      <td>4</td>\n",
       "      <td>140</td>\n",
       "      <td>167</td>\n",
       "      <td>0</td>\n",
       "      <td>0</td>\n",
       "      <td>150</td>\n",
       "      <td>0</td>\n",
       "      <td>0.0</td>\n",
       "      <td>?</td>\n",
       "      <td>?</td>\n",
       "      <td>?</td>\n",
       "      <td>0</td>\n",
       "    </tr>\n",
       "    <tr>\n",
       "      <th>14</th>\n",
       "      <td>35</td>\n",
       "      <td>1</td>\n",
       "      <td>2</td>\n",
       "      <td>120</td>\n",
       "      <td>308</td>\n",
       "      <td>0</td>\n",
       "      <td>2</td>\n",
       "      <td>180</td>\n",
       "      <td>0</td>\n",
       "      <td>0.0</td>\n",
       "      <td>?</td>\n",
       "      <td>?</td>\n",
       "      <td>?</td>\n",
       "      <td>0</td>\n",
       "    </tr>\n",
       "  </tbody>\n",
       "</table>\n",
       "</div>"
      ],
      "text/plain": [
       "    age  sex  cp  trestbps  chol  fbs  restecg  thalach exang  oldpeak slope  \\\n",
       "0    28    1   2       130   132    0        2      185     0      0.0     ?   \n",
       "1    29    1   2       120   243    0        0      160     0      0.0     ?   \n",
       "2    29    1   2       140   251    0        0      170     0      0.0     ?   \n",
       "3    30    0   1       170   237    0        1      170     0      0.0     ?   \n",
       "4    31    0   2       100   219    0        1      150     0      0.0     ?   \n",
       "5    32    0   2       105   198    0        0      165     0      0.0     ?   \n",
       "6    32    1   2       110   225    0        0      184     0      0.0     ?   \n",
       "7    32    1   2       125   254    0        0      155     0      0.0     ?   \n",
       "8    33    1   3       120   298    0        0      185     0      0.0     ?   \n",
       "9    34    0   2       130   161    0        0      190     0      0.0     ?   \n",
       "10   34    1   2       150   214    0        1      168     0      0.0     ?   \n",
       "11   34    1   2        98   220    0        0      150     0      0.0    ?    \n",
       "12   35    0   1       120   160    0        1      185     0      0.0     ?   \n",
       "13   35    0   4       140   167    0        0      150     0      0.0     ?   \n",
       "14   35    1   2       120   308    0        2      180     0      0.0     ?   \n",
       "\n",
       "    ca thal  num  \n",
       "0    ?    ?    0  \n",
       "1    ?    ?    0  \n",
       "2    ?    ?    0  \n",
       "3    ?    6    0  \n",
       "4    ?    ?    0  \n",
       "5    ?    ?    0  \n",
       "6    ?    ?    0  \n",
       "7    ?    ?    0  \n",
       "8    ?    ?    0  \n",
       "9    ?    ?    0  \n",
       "10   ?    ?    0  \n",
       "11  ?    ?     0  \n",
       "12   ?    ?    0  \n",
       "13   ?    ?    0  \n",
       "14   ?    ?    0  "
      ]
     },
     "execution_count": 346,
     "metadata": {},
     "output_type": "execute_result"
    }
   ],
   "source": [
    "# tulis jawaban anda pada code-cell berikut\n",
    "\n",
    "df.head(15)"
   ]
  },
  {
   "cell_type": "markdown",
   "metadata": {
    "id": "v1T_U2dC_JxU"
   },
   "source": [
    "2. Munculkan **informasi** dataset dan lakukan **cleaning data** yang dibutuhkan:\n",
    "    - mengecek dan menghapus **nilai kosong**\n",
    "    - menghapus (**_drop_**) kolom _\"date\"_\n",
    "    - mengecek dan menghapus data yang memiliki **nilai duplikat**"
   ]
  },
  {
   "cell_type": "code",
   "execution_count": 347,
   "metadata": {
    "id": "PAlj5pjO0PS7"
   },
   "outputs": [
    {
     "name": "stdout",
     "output_type": "stream",
     "text": [
      "Null value tiap kolom:\n",
      "age         0\n",
      "sex         0\n",
      "cp          0\n",
      "trestbps    0\n",
      "chol        0\n",
      "fbs         0\n",
      "restecg     0\n",
      "thalach     0\n",
      "exang       0\n",
      "oldpeak     0\n",
      "slope       0\n",
      "ca          0\n",
      "thal        0\n",
      "num         0\n",
      "dtype: int64\n"
     ]
    }
   ],
   "source": [
    "# tulis jawaban anda pada code-cell berikut\n",
    "\n",
    "print(\"Null value tiap kolom:\")\n",
    "print(df.isnull().sum())"
   ]
  },
  {
   "cell_type": "code",
   "execution_count": 348,
   "metadata": {
    "id": "_NwHWmbi0S8L"
   },
   "outputs": [
    {
     "data": {
      "text/html": [
       "<div>\n",
       "<style scoped>\n",
       "    .dataframe tbody tr th:only-of-type {\n",
       "        vertical-align: middle;\n",
       "    }\n",
       "\n",
       "    .dataframe tbody tr th {\n",
       "        vertical-align: top;\n",
       "    }\n",
       "\n",
       "    .dataframe thead th {\n",
       "        text-align: right;\n",
       "    }\n",
       "</style>\n",
       "<table border=\"1\" class=\"dataframe\">\n",
       "  <thead>\n",
       "    <tr style=\"text-align: right;\">\n",
       "      <th></th>\n",
       "      <th>age</th>\n",
       "      <th>sex</th>\n",
       "      <th>cp</th>\n",
       "      <th>trestbps</th>\n",
       "      <th>chol</th>\n",
       "      <th>fbs</th>\n",
       "      <th>restecg</th>\n",
       "      <th>thalach</th>\n",
       "      <th>exang</th>\n",
       "      <th>oldpeak</th>\n",
       "      <th>num</th>\n",
       "    </tr>\n",
       "  </thead>\n",
       "  <tbody>\n",
       "    <tr>\n",
       "      <th>0</th>\n",
       "      <td>28</td>\n",
       "      <td>1</td>\n",
       "      <td>2</td>\n",
       "      <td>130</td>\n",
       "      <td>132</td>\n",
       "      <td>0</td>\n",
       "      <td>2</td>\n",
       "      <td>185</td>\n",
       "      <td>0</td>\n",
       "      <td>0.0</td>\n",
       "      <td>0</td>\n",
       "    </tr>\n",
       "    <tr>\n",
       "      <th>1</th>\n",
       "      <td>29</td>\n",
       "      <td>1</td>\n",
       "      <td>2</td>\n",
       "      <td>120</td>\n",
       "      <td>243</td>\n",
       "      <td>0</td>\n",
       "      <td>0</td>\n",
       "      <td>160</td>\n",
       "      <td>0</td>\n",
       "      <td>0.0</td>\n",
       "      <td>0</td>\n",
       "    </tr>\n",
       "    <tr>\n",
       "      <th>2</th>\n",
       "      <td>29</td>\n",
       "      <td>1</td>\n",
       "      <td>2</td>\n",
       "      <td>140</td>\n",
       "      <td>251</td>\n",
       "      <td>0</td>\n",
       "      <td>0</td>\n",
       "      <td>170</td>\n",
       "      <td>0</td>\n",
       "      <td>0.0</td>\n",
       "      <td>0</td>\n",
       "    </tr>\n",
       "    <tr>\n",
       "      <th>3</th>\n",
       "      <td>30</td>\n",
       "      <td>0</td>\n",
       "      <td>1</td>\n",
       "      <td>170</td>\n",
       "      <td>237</td>\n",
       "      <td>0</td>\n",
       "      <td>1</td>\n",
       "      <td>170</td>\n",
       "      <td>0</td>\n",
       "      <td>0.0</td>\n",
       "      <td>0</td>\n",
       "    </tr>\n",
       "    <tr>\n",
       "      <th>4</th>\n",
       "      <td>31</td>\n",
       "      <td>0</td>\n",
       "      <td>2</td>\n",
       "      <td>100</td>\n",
       "      <td>219</td>\n",
       "      <td>0</td>\n",
       "      <td>1</td>\n",
       "      <td>150</td>\n",
       "      <td>0</td>\n",
       "      <td>0.0</td>\n",
       "      <td>0</td>\n",
       "    </tr>\n",
       "  </tbody>\n",
       "</table>\n",
       "</div>"
      ],
      "text/plain": [
       "   age  sex  cp  trestbps  chol  fbs  restecg  thalach exang  oldpeak  num\n",
       "0   28    1   2       130   132    0        2      185     0      0.0    0\n",
       "1   29    1   2       120   243    0        0      160     0      0.0    0\n",
       "2   29    1   2       140   251    0        0      170     0      0.0    0\n",
       "3   30    0   1       170   237    0        1      170     0      0.0    0\n",
       "4   31    0   2       100   219    0        1      150     0      0.0    0"
      ]
     },
     "execution_count": 348,
     "metadata": {},
     "output_type": "execute_result"
    }
   ],
   "source": [
    "# tulis jawaban anda pada code-cell berikut\n",
    "\n",
    "df.drop(['slope','ca','thal'], axis=1, inplace=True)\n",
    "df.head()\n"
   ]
  },
  {
   "cell_type": "markdown",
   "metadata": {
    "id": "uWtD_1C6Yflr"
   },
   "source": [
    "3. Diatas adalah contoh visualisasi menggunakan _diagram pie_,\n",
    "\n",
    "    buatlah **visualisasi distribusi _target-class_** seperti diatas!"
   ]
  },
  {
   "cell_type": "code",
   "execution_count": 349,
   "metadata": {
    "id": "hSOqWOOKCdmK"
   },
   "outputs": [
    {
     "name": "stdout",
     "output_type": "stream",
     "text": [
      "Distribusi Kelas Sakit Jantung :\n",
      "0    188\n",
      "1    106\n",
      "Name: num, dtype: int64\n"
     ]
    }
   ],
   "source": [
    "# tulis jawaban anda pada code-cell berikut\n",
    "\n",
    "print(\"Distribusi Kelas Sakit Jantung :\")\n",
    "print(df['num'].value_counts())"
   ]
  },
  {
   "cell_type": "code",
   "execution_count": 350,
   "metadata": {},
   "outputs": [
    {
     "data": {
      "image/png": "[encoded data removed]",
      "text/plain": [
       "<Figure size 700x700 with 1 Axes>"
      ]
     },
     "metadata": {},
     "output_type": "display_data"
    }
   ],
   "source": [
    "plt.figure(figsize=(7, 7))\n",
    "plt.pie(df['num'].value_counts(), labels=df['num'].unique(), autopct='%1.1f%%', colors=['coral', 'lightgreen', 'yellow','lightblue','lightgrey'], startangle=90)\n",
    "plt.title(\"Heart Disease Distribution\", fontsize=15, fontweight=\"bold\")\n",
    "plt.show()"
   ]
  },
  {
   "cell_type": "markdown",
   "metadata": {
    "id": "QumvAf26CmuA"
   },
   "source": [
    "4. Anda akan melakukan **visualisasi relasi antar fitur** menggunakan _diagram scatter_.\n",
    "\n",
    "    Perbaiki kata **'fix_me'** pada _code-cell_ dibawah!"
   ]
  },
  {
   "cell_type": "code",
   "execution_count": 351,
   "metadata": {
    "colab": {
     "base_uri": "https://localhost:8080/",
     "height": 512
    },
    "id": "GgHGDKjA1z51",
    "outputId": "d0c18aa7-eb28-45bc-fc09-bed59b3fdd5a"
   },
   "outputs": [
    {
     "data": {
      "image/png": "[encoded data removed]",
      "text/plain": [
       "<Figure size 500x1000 with 1 Axes>"
      ]
     },
     "metadata": {},
     "output_type": "display_data"
    }
   ],
   "source": [
    "labels=df['num'].unique()\n",
    "values=df['num'].value_counts(ascending=True)\n",
    "\n",
    "\n",
    "fig, ax0 = plt.subplots(figsize=(5,10))\n",
    "bar = ax0.bar(x=labels, height=values, width=0.4, align='center', color=['#42a7f5','#d400ad'])\n",
    "ax0.set(title='Jumlah Klasifikasi Kasus Penyakit Jantung',xlabel='Klasifikasi', ylabel='Total Data')\n",
    "ax0.set_ylim(0,200)\n",
    "ax0.axhline(y=df['num'].value_counts()[0], color='#DA0C81', linestyle='--', label=f'0 ({df.num.value_counts()[0]})')\n",
    "ax0.axhline(y=df['num'].value_counts()[1], color='#F99417', linestyle='--', label=f'1({df.num.value_counts()[1]})')\n",
    "ax0.legend()\n",
    "\n",
    "plt.show()"
   ]
  },
  {
   "cell_type": "code",
   "execution_count": 352,
   "metadata": {
    "colab": {
     "base_uri": "https://localhost:8080/",
     "height": 429
    },
    "id": "dMFtyTcCmkVh",
    "outputId": "5f4467e7-de31-4b02-a591-89c5c5309e6c"
   },
   "outputs": [
    {
     "name": "stdout",
     "output_type": "stream",
     "text": [
      "<class 'pandas.core.frame.DataFrame'>\n",
      "RangeIndex: 294 entries, 0 to 293\n",
      "Data columns (total 11 columns):\n",
      " #   Column    Non-Null Count  Dtype  \n",
      "---  ------    --------------  -----  \n",
      " 0   age       294 non-null    int64  \n",
      " 1   sex       294 non-null    int64  \n",
      " 2   cp        294 non-null    int64  \n",
      " 3   trestbps  294 non-null    int64  \n",
      " 4   chol      294 non-null    int64  \n",
      " 5   fbs       294 non-null    int64  \n",
      " 6   restecg   294 non-null    int64  \n",
      " 7   thalach   294 non-null    int64  \n",
      " 8   exang     294 non-null    int64  \n",
      " 9   oldpeak   294 non-null    float64\n",
      " 10  num       294 non-null    int64  \n",
      "dtypes: float64(1), int64(10)\n",
      "memory usage: 25.4 KB\n"
     ]
    }
   ],
   "source": [
    "df = pd.read_csv(\"afterdrop.csv\")\n",
    "df.info()"
   ]
  },
  {
   "cell_type": "markdown",
   "metadata": {
    "id": "ClNSDoL7Ewew"
   },
   "source": [
    "## **Modelling**"
   ]
  },
  {
   "cell_type": "markdown",
   "metadata": {
    "id": "Fa4dHOM4E3LG"
   },
   "source": [
    "5. **Bagi dataset** menjadi _train-set_ dan _test-set_ dengan ketentuan sebagai berikut:\n",
    "\n",
    "    a. X = seluruh kolom fitur kecuali kolom target\n",
    "\n",
    "    b. y = kolom target\n",
    "    \n",
    "    c. Bagi dengan rasio 70% _train-set_ dan 30% _test-set_"
   ]
  },
  {
   "cell_type": "code",
   "execution_count": 353,
   "metadata": {
    "id": "I8MHqeePo912"
   },
   "outputs": [],
   "source": [
    "# tulis jawaban anda pada code-cell berikut\n",
    "\n",
    "X = df.iloc[:, :-1]\n",
    "y = df['num']\n",
    "\n",
    "X_train, X_test, y_train, y_test = train_test_split(X, y, test_size=0.3, random_state=42)"
   ]
  },
  {
   "cell_type": "markdown",
   "metadata": {
    "id": "7AEfzpv8Hllh"
   },
   "source": [
    "6. **Perbaiki kata 'fix_me'** pada _code-cell_ dibawah untuk **menampilkan visualisasi rasio _target-class_** pada _train-set_ dan _test-set_!"
   ]
  },
  {
   "cell_type": "code",
   "execution_count": 354,
   "metadata": {
    "colab": {
     "base_uri": "https://localhost:8080/",
     "height": 680
    },
    "id": "gEoYdiwfprrr",
    "outputId": "2cadf8c9-769d-4102-d6b2-0c084d4eaa31"
   },
   "outputs": [
    {
     "data": {
      "image/png": "[encoded data removed]",
      "text/plain": [
       "<Figure size 1400x700 with 2 Axes>"
      ]
     },
     "metadata": {},
     "output_type": "display_data"
    }
   ],
   "source": [
    "fig, axs = plt.subplots(nrows=1, ncols=2, figsize=(14, 7))\n",
    "target_names = df['num'].unique()\n",
    "colors1 = ['lightsteelblue', 'lightcoral']\n",
    "colors2 = ['coral', 'lightgreen']\n",
    "\n",
    "#Train dataset\n",
    "axs[0].pie(y_train.value_counts(), labels=target_names, colors=colors1, autopct='%1.1f%%', startangle=90)\n",
    "axs[0].set_title(\"Train Set\", fontweight=\"bold\")\n",
    "\n",
    "#Test dataset\n",
    "axs[1].pie(y_test.value_counts(), labels=target_names, colors=colors2, autopct='%1.1f%%', startangle=90)\n",
    "axs[1].set_title(\"Test Set\", fontweight=\"bold\")\n",
    "\n",
    "fig = fig.suptitle(\"Rasio Tiap Set\", fontsize=20, fontweight=\"bold\")\n",
    "plt.tight_layout()"
   ]
  },
  {
   "cell_type": "markdown",
   "metadata": {
    "id": "onchUxjlIQPB"
   },
   "source": [
    "7.  Buatlah model dengan salah satu algoritma klasifikasi lalu latih dan prediksi dataset!"
   ]
  },
  {
   "cell_type": "code",
   "execution_count": 355,
   "metadata": {
    "id": "p19vgB4Opwup"
   },
   "outputs": [],
   "source": [
    "# tulis jawaban anda pada code-cell berikut\n",
    "\n",
    "knn = KNeighborsClassifier(n_neighbors=3)\n",
    "knn.fit(X_train, y_train)\n",
    "y_pred = knn.predict(X_test)"
   ]
  },
  {
   "cell_type": "code",
   "execution_count": 356,
   "metadata": {},
   "outputs": [
    {
     "data": {
      "text/plain": [
       "age          29.0\n",
       "sex           1.0\n",
       "cp            2.0\n",
       "trestbps    120.0\n",
       "chol        243.0\n",
       "fbs           0.0\n",
       "restecg       0.0\n",
       "thalach     160.0\n",
       "exang         0.0\n",
       "oldpeak       0.0\n",
       "num           0.0\n",
       "Name: 1, dtype: float64"
      ]
     },
     "execution_count": 356,
     "metadata": {},
     "output_type": "execute_result"
    }
   ],
   "source": [
    "df.iloc[1]"
   ]
  },
  {
   "cell_type": "markdown",
   "metadata": {
    "id": "HWU9UghdIR4-"
   },
   "source": [
    "## **Evaluasi**"
   ]
  },
  {
   "cell_type": "markdown",
   "metadata": {
    "id": "tvwUjePAJDAw"
   },
   "source": [
    "8. Munculkan akurasi yang dihasilkan dari model yang anda gunakan."
   ]
  },
  {
   "cell_type": "code",
   "execution_count": 357,
   "metadata": {},
   "outputs": [
    {
     "name": "stdout",
     "output_type": "stream",
     "text": [
      "Accuracy: 0.6966292134831461\n",
      "Precision: 0.6937564603385553\n",
      "Recall: 0.6966292134831461\n",
      "F1 Score: 0.6951045118214205\n"
     ]
    }
   ],
   "source": [
    "# Lakukan evaluasi model\n",
    "\n",
    "accuracy = accuracy_score(y_test, y_pred)\n",
    "precision = precision_score(y_test, y_pred, average='weighted')\n",
    "recall = recall_score(y_test, y_pred, average='weighted')\n",
    "f1 = f1_score(y_test, y_pred, average='weighted')\n",
    "\n",
    "print('Accuracy:', accuracy)\n",
    "print('Precision:', precision)\n",
    "print('Recall:', recall)\n",
    "print('F1 Score:', f1)"
   ]
  },
  {
   "cell_type": "code",
   "execution_count": 358,
   "metadata": {},
   "outputs": [
    {
     "name": "stdout",
     "output_type": "stream",
     "text": [
      "naive bayes : 0.797752808988764\n",
      "Precision: 0.821732268626481\n",
      "Recall: 0.797752808988764\n",
      "F1 Score: 0.8032968657599053\n"
     ]
    }
   ],
   "source": [
    "nb = GaussianNB()\n",
    "nb.fit(X_train, y_train)\n",
    "nb_predict = nb.predict(X_test)\n",
    "\n",
    "nb_acc_score = accuracy_score(y_test, nb_predict)\n",
    "precision = precision_score(y_test, nb_predict, average='weighted')\n",
    "recall = recall_score(y_test, nb_predict, average='weighted')\n",
    "f1 = f1_score(y_test, nb_predict, average='weighted')\n",
    "\n",
    "print(f'naive bayes : {nb_acc_score}')\n",
    "print('Precision:', precision)\n",
    "print('Recall:', recall)\n",
    "print('F1 Score:', f1)"
   ]
  },
  {
   "cell_type": "code",
   "execution_count": 359,
   "metadata": {},
   "outputs": [
    {
     "name": "stdout",
     "output_type": "stream",
     "text": [
      "bernoulli : 0.7865168539325843\n",
      "Precision: 0.7938283486020671\n",
      "Recall: 0.7865168539325843\n",
      "F1 Score: 0.7892534275184078\n"
     ]
    }
   ],
   "source": [
    "nb_b = BernoulliNB()\n",
    "nb_b.fit(X_train, y_train)\n",
    "nb_b_predict = nb_b.predict(X_test)\n",
    "\n",
    "nb_b_score = accuracy_score(y_test, nb_b_predict)\n",
    "precision = precision_score(y_test, nb_b_predict, average='weighted')\n",
    "recall = recall_score(y_test, nb_b_predict, average='weighted')\n",
    "f1 = f1_score(y_test, nb_b_predict, average='weighted')\n",
    "\n",
    "print(f'bernoulli : {nb_b_score}')\n",
    "print('Precision:', precision)\n",
    "print('Recall:', recall)\n",
    "print('F1 Score:', f1)"
   ]
  },
  {
   "cell_type": "code",
   "execution_count": 360,
   "metadata": {},
   "outputs": [
    {
     "name": "stdout",
     "output_type": "stream",
     "text": [
      "multinomial : 0.7752808988764045\n",
      "Precision: 0.8086177108335943\n",
      "Recall: 0.7752808988764045\n",
      "F1 Score: 0.7822729704752177\n"
     ]
    }
   ],
   "source": [
    "nb_m = MultinomialNB()\n",
    "nb_m.fit(X_train, y_train)\n",
    "nb_m_predict = nb_m.predict(X_test)\n",
    "\n",
    "nb_m_score = accuracy_score(y_test, nb_m_predict)\n",
    "precision = precision_score(y_test, nb_m_predict, average='weighted')\n",
    "recall = recall_score(y_test, nb_m_predict, average='weighted')\n",
    "f1 = f1_score(y_test, nb_m_predict, average='weighted')\n",
    "\n",
    "print(f'multinomial : {nb_m_score}')\n",
    "print('Precision:', precision)\n",
    "print('Recall:', recall)\n",
    "print('F1 Score:', f1)"
   ]
  },
  {
   "cell_type": "code",
   "execution_count": 361,
   "metadata": {},
   "outputs": [
    {
     "name": "stdout",
     "output_type": "stream",
     "text": [
      "complementary : 0.7865168539325843\n",
      "Precision: 0.8241659464131375\n",
      "Recall: 0.7865168539325843\n",
      "F1 Score: 0.7934635960797289\n"
     ]
    }
   ],
   "source": [
    "nb_c = ComplementNB()\n",
    "nb_c.fit(X_train, y_train)\n",
    "nb_c_predict = nb_c.predict(X_test)\n",
    "\n",
    "nb_c_score = accuracy_score(y_test, nb_c_predict)\n",
    "precision = precision_score(y_test, nb_c_predict, average='weighted')\n",
    "recall = recall_score(y_test, nb_c_predict, average='weighted')\n",
    "f1 = f1_score(y_test, nb_c_predict, average='weighted')\n",
    "\n",
    "print(f'complementary : {nb_c_score}')\n",
    "print('Precision:', precision)\n",
    "print('Recall:', recall)\n",
    "print('F1 Score:', f1)"
   ]
  },
  {
   "cell_type": "code",
   "execution_count": 362,
   "metadata": {},
   "outputs": [
    {
     "name": "stdout",
     "output_type": "stream",
     "text": [
      "Accuracy: 0.83\n"
     ]
    }
   ],
   "source": [
    "# create an SVM model and train it on the training data\n",
    "model = svm.SVC(kernel=\"linear\", C=5)\n",
    "model.fit(X_train, y_train)\n",
    "\n",
    "# evaluate the model on the test data\n",
    "accuracy = model.score(X_test, y_test)\n",
    "\n",
    "print(\"Accuracy: {:.2f}\".format(accuracy))"
   ]
  },
  {
   "cell_type": "markdown",
   "metadata": {
    "id": "0XMgE1UUeMiH"
   },
   "source": [
    "## **Esai**"
   ]
  },
  {
   "cell_type": "markdown",
   "metadata": {
    "id": "UymYGonveaDR"
   },
   "source": [
    "9. Berikan kesimpulan dari project yang telah anda buat."
   ]
  },
  {
   "cell_type": "markdown",
   "metadata": {
    "id": "mtANYv8Leha-"
   },
   "source": [
    "_Tulis **jawaban** no. 9 disini_\n",
    "\n",
    "Untuk klasifikasi kali ini menggunakan algoritma KNN,dengan target class berjumlah 5,menghasilkan akurasi sebesar 74% dengan mayoritas cuaca cerah dan hujan"
   ]
  },
  {
   "cell_type": "markdown",
   "metadata": {
    "id": "SBely14pnEcY"
   },
   "source": [
    "10. Upload dan lampirkan link\n",
    "    - **Video** penjelasan berdurasi 10-15 menit mengenai project anda.\n",
    "    - **Repository Github** berisi file notebook (_.ipynb_) anda."
   ]
  },
  {
   "cell_type": "code",
   "execution_count": 363,
   "metadata": {
    "id": "Zj0pbeGvnDkw"
   },
   "outputs": [],
   "source": [
    "link_video = \"https://drive.google.com/file/d/1gxhcxfaDoQ-K8-Fc4_mt8Sb7vAXmCPTM/view?usp=drive_link\"\n",
    "link_github = \"https://github.com/isNothingSpecial/UTSBKD\""
   ]
  }
 ],
 "metadata": {
  "colab": {
   "provenance": []
  },
  "kernelspec": {
   "display_name": "Python 3 (ipykernel)",
   "language": "python",
   "name": "python3"
  },
  "language_info": {
   "codemirror_mode": {
    "name": "ipython",
    "version": 3
   },
   "file_extension": ".py",
   "mimetype": "text/x-python",
   "name": "python",
   "nbconvert_exporter": "python",
   "pygments_lexer": "ipython3",
   "version": "3.10.9"
  }
 },
 "nbformat": 4,
 "nbformat_minor": 1
}
